{
 "cells": [
  {
   "cell_type": "markdown",
   "source": [
    "## How to load a pre-trained keras model to be used for MC-Dropout and Point Predictions?"
   ],
   "metadata": {
    "collapsed": false,
    "pycharm": {
     "name": "#%% md\n"
    }
   }
  },
  {
   "cell_type": "code",
   "execution_count": null,
   "outputs": [],
   "source": [
    "import tensorflow as tf\n",
    "\n",
    "try:\n",
    "  import uncertainty_wizard as uwiz\n",
    "except ModuleNotFoundError as e:\n",
    "  # Uncertainty wizard was not installed. Install it now (we're probably on colab)\n",
    "  !pip install uncertainty_wizard\n",
    "  import uncertainty_wizard as uwiz"
   ],
   "metadata": {
    "collapsed": false,
    "pycharm": {
     "name": "#%%\n"
    }
   }
  },
  {
   "cell_type": "markdown",
   "source": [
    "**Step 1: Get the (plain) tf.keras model you want to cast to an uncertainty wizard model**\n",
    "\n",
    "In this example, we use a pre-trained efficientnet model, which we download through keras.\n",
    "You can of course also use one of your own pre-trained models."
   ],
   "metadata": {
    "collapsed": false
   }
  },
  {
   "cell_type": "code",
   "execution_count": null,
   "outputs": [],
   "source": [
    "# Let's load this big model. This will take a while\n",
    "keras_model = tf.keras.applications.EfficientNetB0(\n",
    "            include_top=True, weights='imagenet', input_tensor=None, input_shape=None,\n",
    "            pooling=None, classes=1000, classifier_activation='softmax')"
   ],
   "metadata": {
    "collapsed": false,
    "pycharm": {
     "name": "#%%\n"
    }
   }
  },
  {
   "cell_type": "markdown",
   "source": [
    "**Step 2: Cast to an uncertainty wizard model**"
   ],
   "metadata": {
    "collapsed": false
   }
  },
  {
   "cell_type": "code",
   "execution_count": null,
   "outputs": [],
   "source": [
    "# It's just one line.\n",
    "# However, given that our keras_model is fairly huge, processing will take a while.\n",
    "stochastic_model = uwiz.models.stochastic_from_keras(keras_model)\n",
    "\n",
    "print(stochastic_model.summary())\n",
    "\n",
    "print(\"Model successfully loaded - ready to make quantified predictions\")"
   ],
   "metadata": {
    "collapsed": false,
    "pycharm": {
     "name": "#%%\n"
    }
   }
  },
  {
   "cell_type": "markdown",
   "source": [
    "Are you unsure if your keras_model had any stochastic layers?\n",
    "**Don't worry** - uncertainty wizard has your back and will warn you if the resulting model is a deterministic one..."
   ],
   "metadata": {
    "collapsed": false,
    "pycharm": {
     "name": "#%% md\n"
    }
   }
  },
  {
   "cell_type": "markdown",
   "source": [
    "**Step 3: There is no step 3**\n",
    "\n",
    "You are already done converting and ready to now make quantified predictions:\n",
    "Use *stochastic_model.predict_quantified(...)* as shown in the example on how to use StochasticSequential models."
   ],
   "metadata": {
    "collapsed": false
   }
  }
 ],
 "metadata": {
  "kernelspec": {
   "display_name": "Python 3",
   "language": "python",
   "name": "python3"
  },
  "language_info": {
   "codemirror_mode": {
    "name": "ipython",
    "version": 2
   },
   "file_extension": ".py",
   "mimetype": "text/x-python",
   "name": "python",
   "nbconvert_exporter": "python",
   "pygments_lexer": "ipython2",
   "version": "2.7.6"
  }
 },
 "nbformat": 4,
 "nbformat_minor": 0
}